{
 "cells": [
  {
   "cell_type": "markdown",
   "metadata": {},
   "source": [
    "# DEC 10"
   ]
  },
  {
   "cell_type": "code",
   "execution_count": 1,
   "metadata": {},
   "outputs": [],
   "source": [
    "import pandas as pd\n",
    "import numpy as np\n",
    "import matplotlib.pyplot as plt\n",
    "import seaborn as sns\n",
    "import sys\n",
    "\n",
    "sys.path.append('../src/')\n",
    "from algoritmes import glouton, evolution\n",
    "from mesures import satisfaction\n",
    "\n",
    "CAPACITES = {'département': {'Ain': 30, 'Loire': 40, 'Rhone': 50}, 'concours': {'externe': 100, 'interne': 5, 'troisieme': 15}}"
   ]
  },
  {
   "cell_type": "markdown",
   "metadata": {},
   "source": [
    "## Chargement des données"
   ]
  },
  {
   "cell_type": "code",
   "execution_count": 2,
   "metadata": {},
   "outputs": [],
   "source": [
    "df_interne_rh = pd.read_excel('../data/in/' + 'LP public interne RH.xlsx')\n",
    "df_interne_rang = pd.read_excel('../data/in/' + 'LP public interne rang.xlsx')\n",
    "df_interne_voeux = pd.read_excel('../data/in/' + 'LP public interne voeux.xlsx')\n",
    "df_externe_rh = pd.read_excel('../data/in/' + 'LP public externe RH.xlsx')\n",
    "df_externe_rang = pd.read_excel('../data/in/' + 'LP public externe rang.xlsx')\n",
    "df_externe_voeux = pd.read_excel('../data/in/' + 'LP public externe voeux.xlsx')\n",
    "df_troisieme_rh = pd.read_excel('../data/in/' + 'LP public 3e concours RH.xlsx')\n",
    "df_troisieme_rang = pd.read_excel('../data/in/' + 'LP public 3e concours rang.xlsx')\n",
    "df_troisieme_voeux = pd.read_excel('../data/in/' + 'LP public 3e concours voeux.xlsx')\n",
    "\n",
    "df_interne = pd.merge(df_interne_rh, df_interne_rang, on='N° Candidat')\n",
    "df_interne = pd.merge(df_interne, df_interne_voeux, on='N° Candidat')\n",
    "df_externe = pd.merge(df_externe_rh, df_externe_rang, on='N° Candidat')\n",
    "df_externe = pd.merge(df_externe, df_externe_voeux, on='N° Candidat')\n",
    "df_troisieme = pd.merge(df_troisieme_rh, df_troisieme_rang, on='N° Candidat')\n",
    "df_troisieme = pd.merge(df_troisieme, df_troisieme_voeux, on='N° Candidat')\n",
    "\n",
    "df_interne = df_interne[['N° Candidat', 'Rang de classement', 'Vœu 1', 'Vœu 2', 'Vœu 3']]\n",
    "df_externe = df_externe[['N° Candidat', 'Rang de classement', 'Vœu 1', 'Vœu 2', 'Vœu 3']]\n",
    "df_troisieme = df_troisieme[['N° Candidat', 'Rang de classement', 'Vœu 1', 'Vœu 2', 'Vœu 3']]\n",
    "\n",
    "interne = df_interne.to_numpy()\n",
    "externe = df_externe.to_numpy()\n",
    "troisieme = df_troisieme.to_numpy()\n",
    "\n",
    "voeux = np.concatenate([df_interne_voeux.to_numpy(), df_externe_voeux.to_numpy(), df_troisieme_voeux.to_numpy()])\n",
    "voeux = {voeu[0]:voeu[1:] for voeu in voeux}"
   ]
  },
  {
   "cell_type": "markdown",
   "metadata": {},
   "source": [
    "## Algorithme glouton"
   ]
  },
  {
   "cell_type": "code",
   "execution_count": 3,
   "metadata": {},
   "outputs": [
    {
     "name": "stdout",
     "output_type": "stream",
     "text": [
      "Satisfaction de l'affectation gloutonne :  0.4583333333333333\n"
     ]
    }
   ],
   "source": [
    "glouton_resultat = glouton(interne, externe, troisieme, CAPACITES)\n",
    "\n",
    "glouton_resultat = {k:[v] for k, v in glouton_resultat.items()}\n",
    "df_result = pd.DataFrame(glouton_resultat)\n",
    "df_result = df_result.T\n",
    "df_result = df_result.reset_index()\n",
    "df_result.columns = ['N° Candidat', 'Affectation']\n",
    "df_result.to_excel('../data/out/glouton.xlsx', index=False)\n",
    "\n",
    "affectations = df_result.to_numpy()\n",
    "affectations = {affectation[0]:affectation[1] for affectation in affectations}\n",
    "\n",
    "satisf = satisfaction(affectations, voeux)\n",
    "print(\"Satisfaction de l'affectation gloutonne : \", satisf)"
   ]
  },
  {
   "cell_type": "markdown",
   "metadata": {},
   "source": [
    "## Algorithme d'optimisation génétique"
   ]
  },
  {
   "cell_type": "code",
   "execution_count": 4,
   "metadata": {},
   "outputs": [
    {
     "name": "stdout",
     "output_type": "stream",
     "text": [
      "[[2244040615 81 'Rhone' 'Ain' 'Loire']\n",
      " [2244041757 82 'Rhone' 'Ain' 'Loire']\n",
      " [2244049464 83 'Rhone' 'Ain' 'Loire']\n",
      " [2244059748 84 'Rhone' 'Ain' 'Loire']\n",
      " [2244080780 85 'Rhone' 'Ain' 'Loire']\n",
      " [2244087100 86 'Rhone' 'Ain' 'Loire']\n",
      " [2244093369 87 'Rhone' 'Ain' 'Loire']\n",
      " [2244099678 88 'Rhone' 'Ain' 'Loire']\n",
      " [2244104035 89 'Rhone' 'Ain' 'Loire']\n",
      " [2244114097 90 'Rhone' 'Ain' 'Loire']\n",
      " [2244115457 91 'Rhone' 'Ain' 'Loire']\n",
      " [2244126627 92 'Rhone' 'Ain' 'Loire']\n",
      " [2244140840 93 'Rhone' 'Ain' 'Loire']\n",
      " [2244141873 94 'Rhone' 'Ain' 'Loire']\n",
      " [2245144654 95 'Rhone' 'Ain' 'Loire']\n",
      " [2245145336 96 'Rhone' 'Ain' 'Loire']\n",
      " [2245150334 97 'Rhone' 'Ain' 'Loire']\n",
      " [2245150757 98 'Rhone' 'Ain' 'Loire']\n",
      " [2245151380 99 'Rhone' 'Ain' 'Loire']\n",
      " [2245157794 100 'Rhone' 'Ain' 'Loire']\n",
      " [2245158310 101 'Rhone' 'Ain' 'Loire']\n",
      " [2245168261 102 'Rhone' 'Ain' 'Loire']\n",
      " [2245168270 103 'Rhone' 'Ain' 'Loire']\n",
      " [2245179218 104 'Rhone' 'Ain' 'Loire']\n",
      " [2245179755 105 'Rhone' 'Ain' 'Loire']\n",
      " [2245187018 106 'Rhone' 'Ain' 'Loire']\n",
      " [2245187607 107 'Rhone' 'Ain' 'Loire']\n",
      " [2246272813 108 'Rhone' 'Ain' 'Loire']\n",
      " [2246275442 109 'Rhone' 'Ain' 'Loire']\n",
      " [2246322021 110 'Rhone' 'Ain' 'Loire']\n",
      " [2246323780 111 'Rhone' 'Ain' 'Loire']\n",
      " [2246324620 112 'Rhone' 'Ain' 'Loire']\n",
      " [2246408690 113 'Rhone' 'Ain' 'Loire']\n",
      " [2246408717 114 'Rhone' 'Ain' 'Loire']\n",
      " [2246409482 115 'Rhone' 'Ain' 'Loire']\n",
      " [2246410192 116 'Rhone' 'Ain' 'Loire']\n",
      " [2246440938 117 'Rhone' 'Ain' 'Loire']\n",
      " [2246470812 118 'Rhone' 'Ain' 'Loire']\n",
      " [2246474633 119 'Rhone' 'Ain' 'Loire']\n",
      " [2246475844 120 'Rhone' 'Ain' 'Loire']\n",
      " [2246476709 121 'Rhone' 'Ain' 'Loire']\n",
      " [2246476818 122 'Rhone' 'Ain' 'Loire']\n",
      " [2247480130 123 'Rhone' 'Ain' 'Loire']\n",
      " [2247481948 124 'Rhone' 'Ain' 'Loire']\n",
      " [2247557791 125 'Rhone' 'Ain' 'Loire']\n",
      " [2247560490 126 'Rhone' 'Ain' 'Loire']]\n"
     ]
    },
    {
     "ename": "RuntimeError",
     "evalue": "The map-like callable must be of the form f(func, iterable), returning a sequence of numbers the same length as 'iterable'",
     "output_type": "error",
     "traceback": [
      "\u001b[0;31m---------------------------------------------------------------------------\u001b[0m",
      "\u001b[0;31mTypeError\u001b[0m                                 Traceback (most recent call last)",
      "File \u001b[0;32m/workspaces/codespaces-jupyter/.conda/lib/python3.11/site-packages/scipy/optimize/_differentialevolution.py:1319\u001b[0m, in \u001b[0;36mDifferentialEvolutionSolver._calculate_population_energies\u001b[0;34m(self, population)\u001b[0m\n\u001b[1;32m   1318\u001b[0m \u001b[38;5;28;01mtry\u001b[39;00m:\n\u001b[0;32m-> 1319\u001b[0m     calc_energies \u001b[38;5;241m=\u001b[39m \u001b[38;5;28;43mlist\u001b[39;49m\u001b[43m(\u001b[49m\n\u001b[1;32m   1320\u001b[0m \u001b[43m        \u001b[49m\u001b[38;5;28;43mself\u001b[39;49m\u001b[38;5;241;43m.\u001b[39;49m\u001b[43m_mapwrapper\u001b[49m\u001b[43m(\u001b[49m\u001b[38;5;28;43mself\u001b[39;49m\u001b[38;5;241;43m.\u001b[39;49m\u001b[43mfunc\u001b[49m\u001b[43m,\u001b[49m\u001b[43m \u001b[49m\u001b[43mparameters_pop\u001b[49m\u001b[43m[\u001b[49m\u001b[38;5;241;43m0\u001b[39;49m\u001b[43m:\u001b[49m\u001b[43mS\u001b[49m\u001b[43m]\u001b[49m\u001b[43m)\u001b[49m\n\u001b[1;32m   1321\u001b[0m \u001b[43m    \u001b[49m\u001b[43m)\u001b[49m\n\u001b[1;32m   1322\u001b[0m     calc_energies \u001b[38;5;241m=\u001b[39m np\u001b[38;5;241m.\u001b[39msqueeze(calc_energies)\n",
      "File \u001b[0;32m/workspaces/codespaces-jupyter/.conda/lib/python3.11/site-packages/scipy/_lib/_util.py:441\u001b[0m, in \u001b[0;36m_FunctionWrapper.__call__\u001b[0;34m(self, x)\u001b[0m\n\u001b[1;32m    440\u001b[0m \u001b[38;5;28;01mdef\u001b[39;00m \u001b[38;5;21m__call__\u001b[39m(\u001b[38;5;28mself\u001b[39m, x):\n\u001b[0;32m--> 441\u001b[0m     \u001b[38;5;28;01mreturn\u001b[39;00m \u001b[38;5;28;43mself\u001b[39;49m\u001b[38;5;241;43m.\u001b[39;49m\u001b[43mf\u001b[49m\u001b[43m(\u001b[49m\u001b[43mx\u001b[49m\u001b[43m,\u001b[49m\u001b[43m \u001b[49m\u001b[38;5;241;43m*\u001b[39;49m\u001b[38;5;28;43mself\u001b[39;49m\u001b[38;5;241;43m.\u001b[39;49m\u001b[43margs\u001b[49m\u001b[43m)\u001b[49m\n",
      "File \u001b[0;32m/workspaces/codespaces-jupyter/notebooks/../src/algoritmes.py:137\u001b[0m, in \u001b[0;36mevolution.<locals>.aptitude\u001b[0;34m(affectations, voeux, classements, departments)\u001b[0m\n\u001b[1;32m    136\u001b[0m score \u001b[38;5;241m=\u001b[39m \u001b[38;5;241m0\u001b[39m\n\u001b[0;32m--> 137\u001b[0m dept_assignments \u001b[38;5;241m=\u001b[39m \u001b[43m{\u001b[49m\u001b[43mdept\u001b[49m\u001b[43m[\u001b[49m\u001b[38;5;124;43m\"\u001b[39;49m\u001b[38;5;124;43mid\u001b[39;49m\u001b[38;5;124;43m\"\u001b[39;49m\u001b[43m]\u001b[49m\u001b[43m:\u001b[49m\u001b[43m \u001b[49m\u001b[38;5;241;43m0\u001b[39;49m\u001b[43m \u001b[49m\u001b[38;5;28;43;01mfor\u001b[39;49;00m\u001b[43m \u001b[49m\u001b[43mdept\u001b[49m\u001b[43m \u001b[49m\u001b[38;5;129;43;01min\u001b[39;49;00m\u001b[43m \u001b[49m\u001b[43mdepartments\u001b[49m\u001b[43m}\u001b[49m\n\u001b[1;32m    139\u001b[0m \u001b[38;5;66;03m# Liste pour vérifier les affectations par ordre de rang\u001b[39;00m\n",
      "File \u001b[0;32m/workspaces/codespaces-jupyter/notebooks/../src/algoritmes.py:137\u001b[0m, in \u001b[0;36m<dictcomp>\u001b[0;34m(.0)\u001b[0m\n\u001b[1;32m    136\u001b[0m score \u001b[38;5;241m=\u001b[39m \u001b[38;5;241m0\u001b[39m\n\u001b[0;32m--> 137\u001b[0m dept_assignments \u001b[38;5;241m=\u001b[39m {\u001b[43mdept\u001b[49m\u001b[43m[\u001b[49m\u001b[38;5;124;43m\"\u001b[39;49m\u001b[38;5;124;43mid\u001b[39;49m\u001b[38;5;124;43m\"\u001b[39;49m\u001b[43m]\u001b[49m: \u001b[38;5;241m0\u001b[39m \u001b[38;5;28;01mfor\u001b[39;00m dept \u001b[38;5;129;01min\u001b[39;00m departments}\n\u001b[1;32m    139\u001b[0m \u001b[38;5;66;03m# Liste pour vérifier les affectations par ordre de rang\u001b[39;00m\n",
      "\u001b[0;31mTypeError\u001b[0m: string indices must be integers, not 'str'",
      "\nThe above exception was the direct cause of the following exception:\n",
      "\u001b[0;31mRuntimeError\u001b[0m                              Traceback (most recent call last)",
      "Cell \u001b[0;32mIn[4], line 3\u001b[0m\n\u001b[1;32m      1\u001b[0m \u001b[38;5;28mprint\u001b[39m(interne)\n\u001b[0;32m----> 3\u001b[0m evolution_resultat \u001b[38;5;241m=\u001b[39m \u001b[43mevolution\u001b[49m\u001b[43m(\u001b[49m\u001b[43minterne\u001b[49m\u001b[43m,\u001b[49m\u001b[43m \u001b[49m\u001b[43mexterne\u001b[49m\u001b[43m,\u001b[49m\u001b[43m \u001b[49m\u001b[43mtroisieme\u001b[49m\u001b[43m,\u001b[49m\u001b[43m \u001b[49m\u001b[43mCAPACITES\u001b[49m\u001b[43m)\u001b[49m\n\u001b[1;32m      5\u001b[0m evolution_resultat \u001b[38;5;241m=\u001b[39m {k:[v] \u001b[38;5;28;01mfor\u001b[39;00m k, v \u001b[38;5;129;01min\u001b[39;00m evolution_resultat\u001b[38;5;241m.\u001b[39mitems()}\n\u001b[1;32m      6\u001b[0m df_result \u001b[38;5;241m=\u001b[39m pd\u001b[38;5;241m.\u001b[39mDataFrame(evolution_resultat)\n",
      "File \u001b[0;32m/workspaces/codespaces-jupyter/notebooks/../src/algoritmes.py:166\u001b[0m, in \u001b[0;36mevolution\u001b[0;34m(interne, externe, troisieme, capacites)\u001b[0m\n\u001b[1;32m    162\u001b[0m             score \u001b[38;5;241m+\u001b[39m\u001b[38;5;241m=\u001b[39m penalty\n\u001b[1;32m    164\u001b[0m     \u001b[38;5;28;01mreturn\u001b[39;00m score\n\u001b[0;32m--> 166\u001b[0m result \u001b[38;5;241m=\u001b[39m \u001b[43msp\u001b[49m\u001b[38;5;241;43m.\u001b[39;49m\u001b[43moptimize\u001b[49m\u001b[38;5;241;43m.\u001b[39;49m\u001b[43mdifferential_evolution\u001b[49m\u001b[43m(\u001b[49m\u001b[43maptitude\u001b[49m\u001b[43m,\u001b[49m\u001b[43m \u001b[49m\u001b[43mbounds\u001b[49m\u001b[43m,\u001b[49m\u001b[43m \u001b[49m\u001b[43margs\u001b[49m\u001b[38;5;241;43m=\u001b[39;49m\u001b[43m(\u001b[49m\u001b[43mvoeux\u001b[49m\u001b[43m,\u001b[49m\u001b[43m \u001b[49m\u001b[43mclassements\u001b[49m\u001b[43m,\u001b[49m\u001b[43m \u001b[49m\u001b[43mdepartements\u001b[49m\u001b[43m)\u001b[49m\u001b[43m,\u001b[49m\u001b[43m \u001b[49m\u001b[43mmaxiter\u001b[49m\u001b[38;5;241;43m=\u001b[39;49m\u001b[43mnb_generations\u001b[49m\u001b[43m,\u001b[49m\u001b[43m \u001b[49m\u001b[43mpopsize\u001b[49m\u001b[38;5;241;43m=\u001b[39;49m\u001b[43mnb_population\u001b[49m\u001b[43m,\u001b[49m\u001b[43m \u001b[49m\u001b[43mmutation\u001b[49m\u001b[38;5;241;43m=\u001b[39;49m\u001b[43mnb_mutation\u001b[49m\u001b[43m,\u001b[49m\u001b[43m \u001b[49m\u001b[43mrecombination\u001b[49m\u001b[38;5;241;43m=\u001b[39;49m\u001b[43mnb_crossover\u001b[49m\u001b[43m)\u001b[49m\n",
      "File \u001b[0;32m/workspaces/codespaces-jupyter/.conda/lib/python3.11/site-packages/scipy/optimize/_differentialevolution.py:503\u001b[0m, in \u001b[0;36mdifferential_evolution\u001b[0;34m(func, bounds, args, strategy, maxiter, popsize, tol, mutation, recombination, seed, callback, disp, polish, init, atol, updating, workers, constraints, x0, integrality, vectorized)\u001b[0m\n\u001b[1;32m    486\u001b[0m \u001b[38;5;66;03m# using a context manager means that any created Pool objects are\u001b[39;00m\n\u001b[1;32m    487\u001b[0m \u001b[38;5;66;03m# cleared up.\u001b[39;00m\n\u001b[1;32m    488\u001b[0m \u001b[38;5;28;01mwith\u001b[39;00m DifferentialEvolutionSolver(func, bounds, args\u001b[38;5;241m=\u001b[39margs,\n\u001b[1;32m    489\u001b[0m                                  strategy\u001b[38;5;241m=\u001b[39mstrategy,\n\u001b[1;32m    490\u001b[0m                                  maxiter\u001b[38;5;241m=\u001b[39mmaxiter,\n\u001b[0;32m   (...)\u001b[0m\n\u001b[1;32m    501\u001b[0m                                  integrality\u001b[38;5;241m=\u001b[39mintegrality,\n\u001b[1;32m    502\u001b[0m                                  vectorized\u001b[38;5;241m=\u001b[39mvectorized) \u001b[38;5;28;01mas\u001b[39;00m solver:\n\u001b[0;32m--> 503\u001b[0m     ret \u001b[38;5;241m=\u001b[39m \u001b[43msolver\u001b[49m\u001b[38;5;241;43m.\u001b[39;49m\u001b[43msolve\u001b[49m\u001b[43m(\u001b[49m\u001b[43m)\u001b[49m\n\u001b[1;32m    505\u001b[0m \u001b[38;5;28;01mreturn\u001b[39;00m ret\n",
      "File \u001b[0;32m/workspaces/codespaces-jupyter/.conda/lib/python3.11/site-packages/scipy/optimize/_differentialevolution.py:1159\u001b[0m, in \u001b[0;36mDifferentialEvolutionSolver.solve\u001b[0;34m(self)\u001b[0m\n\u001b[1;32m   1154\u001b[0m     \u001b[38;5;28mself\u001b[39m\u001b[38;5;241m.\u001b[39mfeasible, \u001b[38;5;28mself\u001b[39m\u001b[38;5;241m.\u001b[39mconstraint_violation \u001b[38;5;241m=\u001b[39m (\n\u001b[1;32m   1155\u001b[0m         \u001b[38;5;28mself\u001b[39m\u001b[38;5;241m.\u001b[39m_calculate_population_feasibilities(\u001b[38;5;28mself\u001b[39m\u001b[38;5;241m.\u001b[39mpopulation))\n\u001b[1;32m   1157\u001b[0m     \u001b[38;5;66;03m# only work out population energies for feasible solutions\u001b[39;00m\n\u001b[1;32m   1158\u001b[0m     \u001b[38;5;28mself\u001b[39m\u001b[38;5;241m.\u001b[39mpopulation_energies[\u001b[38;5;28mself\u001b[39m\u001b[38;5;241m.\u001b[39mfeasible] \u001b[38;5;241m=\u001b[39m (\n\u001b[0;32m-> 1159\u001b[0m         \u001b[38;5;28;43mself\u001b[39;49m\u001b[38;5;241;43m.\u001b[39;49m\u001b[43m_calculate_population_energies\u001b[49m\u001b[43m(\u001b[49m\n\u001b[1;32m   1160\u001b[0m \u001b[43m            \u001b[49m\u001b[38;5;28;43mself\u001b[39;49m\u001b[38;5;241;43m.\u001b[39;49m\u001b[43mpopulation\u001b[49m\u001b[43m[\u001b[49m\u001b[38;5;28;43mself\u001b[39;49m\u001b[38;5;241;43m.\u001b[39;49m\u001b[43mfeasible\u001b[49m\u001b[43m]\u001b[49m\u001b[43m)\u001b[49m)\n\u001b[1;32m   1162\u001b[0m     \u001b[38;5;28mself\u001b[39m\u001b[38;5;241m.\u001b[39m_promote_lowest_energy()\n\u001b[1;32m   1164\u001b[0m \u001b[38;5;66;03m# do the optimization.\u001b[39;00m\n",
      "File \u001b[0;32m/workspaces/codespaces-jupyter/.conda/lib/python3.11/site-packages/scipy/optimize/_differentialevolution.py:1326\u001b[0m, in \u001b[0;36mDifferentialEvolutionSolver._calculate_population_energies\u001b[0;34m(self, population)\u001b[0m\n\u001b[1;32m   1322\u001b[0m     calc_energies \u001b[38;5;241m=\u001b[39m np\u001b[38;5;241m.\u001b[39msqueeze(calc_energies)\n\u001b[1;32m   1323\u001b[0m \u001b[38;5;28;01mexcept\u001b[39;00m (\u001b[38;5;167;01mTypeError\u001b[39;00m, \u001b[38;5;167;01mValueError\u001b[39;00m) \u001b[38;5;28;01mas\u001b[39;00m e:\n\u001b[1;32m   1324\u001b[0m     \u001b[38;5;66;03m# wrong number of arguments for _mapwrapper\u001b[39;00m\n\u001b[1;32m   1325\u001b[0m     \u001b[38;5;66;03m# or wrong length returned from the mapper\u001b[39;00m\n\u001b[0;32m-> 1326\u001b[0m     \u001b[38;5;28;01mraise\u001b[39;00m \u001b[38;5;167;01mRuntimeError\u001b[39;00m(\n\u001b[1;32m   1327\u001b[0m         \u001b[38;5;124m\"\u001b[39m\u001b[38;5;124mThe map-like callable must be of the form f(func, iterable), \u001b[39m\u001b[38;5;124m\"\u001b[39m\n\u001b[1;32m   1328\u001b[0m         \u001b[38;5;124m\"\u001b[39m\u001b[38;5;124mreturning a sequence of numbers the same length as \u001b[39m\u001b[38;5;124m'\u001b[39m\u001b[38;5;124miterable\u001b[39m\u001b[38;5;124m'\u001b[39m\u001b[38;5;124m\"\u001b[39m\n\u001b[1;32m   1329\u001b[0m     ) \u001b[38;5;28;01mfrom\u001b[39;00m \u001b[38;5;21;01me\u001b[39;00m\n\u001b[1;32m   1331\u001b[0m \u001b[38;5;28;01mif\u001b[39;00m calc_energies\u001b[38;5;241m.\u001b[39msize \u001b[38;5;241m!=\u001b[39m S:\n\u001b[1;32m   1332\u001b[0m     \u001b[38;5;28;01mif\u001b[39;00m \u001b[38;5;28mself\u001b[39m\u001b[38;5;241m.\u001b[39mvectorized:\n",
      "\u001b[0;31mRuntimeError\u001b[0m: The map-like callable must be of the form f(func, iterable), returning a sequence of numbers the same length as 'iterable'"
     ]
    }
   ],
   "source": [
    "print(interne)\n",
    "\n",
    "evolution_resultat = evolution(interne, externe, troisieme, CAPACITES)\n",
    "\n",
    "evolution_resultat = {k:[v] for k, v in evolution_resultat.items()}\n",
    "df_result = pd.DataFrame(evolution_resultat)\n",
    "df_result = df_result.T\n",
    "df_result = df_result.reset_index()\n",
    "df_result.columns = ['N° Candidat', 'Affectation']\n",
    "df_result.to_excel('../data/out/evolution.xlsx', index=False)\n",
    "\n",
    "affectations = df_result.to_numpy()\n",
    "affectations = {affectation[0]:affectation[1] for affectation in affectations}\n",
    "\n",
    "satisf = satisfaction(affectations, voeux)\n",
    "print(\"Satisfaction de l'affectation par évolution : \", satisf)"
   ]
  },
  {
   "cell_type": "markdown",
   "metadata": {},
   "source": [
    "## Algorithme de Gale-Shapley"
   ]
  }
 ],
 "metadata": {
  "kernelspec": {
   "display_name": "Python 3",
   "language": "python",
   "name": "python3"
  },
  "language_info": {
   "codemirror_mode": {
    "name": "ipython",
    "version": 3
   },
   "file_extension": ".py",
   "mimetype": "text/x-python",
   "name": "python",
   "nbconvert_exporter": "python",
   "pygments_lexer": "ipython3",
   "version": "3.11.9"
  }
 },
 "nbformat": 4,
 "nbformat_minor": 2
}
